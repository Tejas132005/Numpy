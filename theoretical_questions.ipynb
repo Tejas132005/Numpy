{
  "nbformat": 4,
  "nbformat_minor": 0,
  "metadata": {
    "colab": {
      "provenance": [],
      "authorship_tag": "ABX9TyPK0q/rEjRkMHAbku0F0AuZ",
      "include_colab_link": true
    },
    "kernelspec": {
      "name": "python3",
      "display_name": "Python 3"
    },
    "language_info": {
      "name": "python"
    }
  },
  "cells": [
    {
      "cell_type": "markdown",
      "metadata": {
        "id": "view-in-github",
        "colab_type": "text"
      },
      "source": [
        "<a href=\"https://colab.research.google.com/github/Tejas132005/Numpy/blob/main/theoretical_questions.ipynb\" target=\"_parent\"><img src=\"https://colab.research.google.com/assets/colab-badge.svg\" alt=\"Open In Colab\"/></a>"
      ]
    },
    {
      "cell_type": "code",
      "execution_count": null,
      "metadata": {
        "id": "h4zZaAiRAHAH"
      },
      "outputs": [],
      "source": [
        "# 1. Explain the purpose and advantages of NumPy in scientific computing and data analysis. How does it enhance Python's capabilities for numerical operations?\n",
        "# Ans:\n",
        "# Efficiently handle arrays, perform complex mathematical operations, and seamlessly integrate with other libraries solidifies its position as the\n",
        "#   cornerstone of numerical computing in Python.\n",
        "# NumPy handles advanced mathematical operations such as matrix multiplication, eigenvalue calculation and differential equations. This makes NumPy\n",
        "#  particularly valuable across a vast range of simulation, modeling, visualization, computational processing and other scientific computing tasks."
      ]
    },
    {
      "cell_type": "code",
      "source": [
        "# 2. Compare and contrast np.mean() and np.average() functions in NumPy. When would you use one over the other?\n",
        "# Ans:\n",
        "# np.mean() method returns arithmetic mean\n",
        "# np. average() function returns the algebraic mean if no additional parameters are specified, but it may also be used to compute a weighted average."
      ],
      "metadata": {
        "id": "RmaPHeeZNtZz"
      },
      "execution_count": null,
      "outputs": []
    },
    {
      "cell_type": "code",
      "source": [
        "# Example for mean///\n",
        "import numpy as np\n",
        "l = [1,2,3,4,5,6,7,8,9,10]\n",
        "a = np.array(l)\n",
        "np.mean(a)"
      ],
      "metadata": {
        "colab": {
          "base_uri": "https://localhost:8080/"
        },
        "id": "K7pA2NfMOpSN",
        "outputId": "54c2c5c4-f1ae-4fdc-90b1-c707fcf05d9c"
      },
      "execution_count": null,
      "outputs": [
        {
          "output_type": "execute_result",
          "data": {
            "text/plain": [
              "5.5"
            ]
          },
          "metadata": {},
          "execution_count": 24
        }
      ]
    },
    {
      "cell_type": "code",
      "source": [
        "# Example for average///\n",
        "import numpy as np\n",
        "ll = [1,2,3,4,5,6,7,8,9,10]\n",
        "a1 = np.array(ll)\n",
        "weight = np.array([4,5,6,12,15,10,2,8,19,20])\n",
        "np.average(a1)"
      ],
      "metadata": {
        "colab": {
          "base_uri": "https://localhost:8080/"
        },
        "id": "Mu5FfmoZO3vP",
        "outputId": "f15ede77-db24-41d7-87fd-1eebe684250e"
      },
      "execution_count": null,
      "outputs": [
        {
          "output_type": "execute_result",
          "data": {
            "text/plain": [
              "5.5"
            ]
          },
          "metadata": {},
          "execution_count": 44
        }
      ]
    },
    {
      "cell_type": "code",
      "source": [
        "np.average(a1, weights=weight)"
      ],
      "metadata": {
        "colab": {
          "base_uri": "https://localhost:8080/"
        },
        "id": "b4k97MyAPGZp",
        "outputId": "efe2ee0c-bcba-4a4f-a131-74c0da3873b4"
      },
      "execution_count": null,
      "outputs": [
        {
          "output_type": "execute_result",
          "data": {
            "text/plain": [
              "6.574257425742574"
            ]
          },
          "metadata": {},
          "execution_count": 45
        }
      ]
    },
    {
      "cell_type": "code",
      "source": [
        "# 3. Describe the methods for reversing a NumPy array along different axes. Provide examples for 1D and 2D arrays.\n",
        "# Ans:\n",
        "# using reverse() function\n",
        "# using flip() function\n",
        "# using flipir() function\n",
        "# using flipud() functio\n",
        "\n",
        "# Examples:\n",
        "import numpy as np\n",
        "l = [1,2,3,4,5,6,7]\n",
        "a = np.array(l)\n",
        "np.flip(a)"
      ],
      "metadata": {
        "colab": {
          "base_uri": "https://localhost:8080/"
        },
        "id": "iVEuUARBPToN",
        "outputId": "1b72a727-c778-4836-d71f-84d6c54973be"
      },
      "execution_count": null,
      "outputs": [
        {
          "output_type": "execute_result",
          "data": {
            "text/plain": [
              "array([7, 6, 5, 4, 3, 2, 1])"
            ]
          },
          "metadata": {},
          "execution_count": 46
        }
      ]
    },
    {
      "cell_type": "code",
      "source": [
        "a1 = np.array([[1,2,3,4,5,6,7]])\n",
        "np.flip(a1)"
      ],
      "metadata": {
        "colab": {
          "base_uri": "https://localhost:8080/"
        },
        "id": "3AfBQ_i2diC1",
        "outputId": "1b1bc7ec-81da-4952-abc2-8800d4c8e081"
      },
      "execution_count": null,
      "outputs": [
        {
          "output_type": "execute_result",
          "data": {
            "text/plain": [
              "array([[7, 6, 5, 4, 3, 2, 1]])"
            ]
          },
          "metadata": {},
          "execution_count": 53
        }
      ]
    },
    {
      "cell_type": "code",
      "source": [
        "# 4. How can you determine the data type of elements in a NumPy array? Discuss the importance of data types in memory management and performance.\n",
        "# Ans:\n",
        "a = np.array([1,2,3,4,5,6])\n",
        "a.dtype\n",
        "# Importance\n",
        "# data types are used to classify one particular type of data. This is important because the specific data type you use will determine what values you\n",
        "#  can assign to it and what you can do to it (including what operations you can perform on it)."
      ],
      "metadata": {
        "colab": {
          "base_uri": "https://localhost:8080/"
        },
        "id": "ur9y33ZKdnRq",
        "outputId": "37ed33a2-022d-4102-f571-ddbe67a3a9f1"
      },
      "execution_count": null,
      "outputs": [
        {
          "output_type": "execute_result",
          "data": {
            "text/plain": [
              "dtype('int64')"
            ]
          },
          "metadata": {},
          "execution_count": 54
        }
      ]
    },
    {
      "cell_type": "code",
      "source": [
        "# 5. Define ndarrays in NumPy and explain their key features. How do they differ from standard Python lists?\n",
        "# Ans:\n",
        "#  ndarray is n dimensional array of same size and type\n",
        "# Key features of ndarry are:\n",
        "# structure , creation ,sharing, indexing and slicing, vectoirisation, etc,,,.\n",
        "# ndarrys in numpy are faster in execution then standard python lists and helps to solve complex mathematical calculations very easily."
      ],
      "metadata": {
        "id": "lpKoUXaoekXD"
      },
      "execution_count": null,
      "outputs": []
    },
    {
      "cell_type": "code",
      "source": [
        "# 6. Analyze the performance benefits of NumPy arrays over Python lists for large-scale numerical operations.\n",
        "# Ans:\n",
        "# Performance benifits:\n",
        "# 1. More memory efficient\n",
        "# 2. Holds homogeneous data in continues memory location\n",
        "# 3. Exerute at compiled c speed(faster execution)\n",
        "# 4. Can handle large data set\n",
        "# 5. Solves complex calculations very easily"
      ],
      "metadata": {
        "id": "KXep9rKmgodw"
      },
      "execution_count": null,
      "outputs": []
    },
    {
      "cell_type": "code",
      "source": [
        "# 7. Compare vstack() and hstack() functions in NumPy. Provide examples demonstrating their usage and output.\n",
        "# Ans:\n",
        "\n",
        "# numpy.hstack() function is used to stack the sequence of input arrays horizontally (i.e. column wise) to make a single array where as\n",
        "#  numpy.vstack() function is used to stack the sequence of input arrays vertically to make a single array.\n",
        "# Syntax  :  numpy.vstack(tup) { vstack }, numpy.hstack(tup) { hstack }"
      ],
      "metadata": {
        "id": "Nwo3hP59hdo-"
      },
      "execution_count": null,
      "outputs": []
    },
    {
      "cell_type": "code",
      "source": [
        "# Example for vstack():\n",
        "import numpy as np\n",
        "arr1 = ([[1,2,3,], [4,5,6]])\n",
        "arr2 = ([[11,12,13],[14,15,16]])\n",
        "np.vstack((arr1, arr2))"
      ],
      "metadata": {
        "colab": {
          "base_uri": "https://localhost:8080/"
        },
        "id": "UlI3g5Tdiqis",
        "outputId": "a332e46c-95b1-4077-fe10-93060bbb8a23"
      },
      "execution_count": null,
      "outputs": [
        {
          "output_type": "execute_result",
          "data": {
            "text/plain": [
              "array([[ 1,  2,  3],\n",
              "       [ 4,  5,  6],\n",
              "       [11, 12, 13],\n",
              "       [14, 15, 16]])"
            ]
          },
          "metadata": {},
          "execution_count": 59
        }
      ]
    },
    {
      "cell_type": "code",
      "source": [
        "# Examples for hstack():\n",
        "import numpy as np\n",
        "a1 = ([[1,2,3,], [4,5,6]])\n",
        "a2 = ([[11,12,13],[14,15,16]])\n",
        "np.hstack((a1,a2))\n"
      ],
      "metadata": {
        "colab": {
          "base_uri": "https://localhost:8080/"
        },
        "id": "e5pOEqTfjN3c",
        "outputId": "2a541572-8e73-4383-a9a1-43fc025b188a"
      },
      "execution_count": null,
      "outputs": [
        {
          "output_type": "execute_result",
          "data": {
            "text/plain": [
              "array([[ 1,  2,  3, 11, 12, 13],\n",
              "       [ 4,  5,  6, 14, 15, 16]])"
            ]
          },
          "metadata": {},
          "execution_count": 60
        }
      ]
    },
    {
      "cell_type": "code",
      "source": [
        "# 8. Explain the differences between fliplr() and flipud() methods in NumPy, including their effects on various array dimensions.\n",
        "# Ans:\n",
        "# In NumPy, the numpy.flip() function is used to reverse the order of elements in an array along the given axis. Here, the shape of the array is\n",
        "#   preserved, but the elements are reordered. It takes a specified axis or axes as a parameter along which to flip over the order of elements.\n",
        "# numpy.fliplr() function is used to reverse the order of elements along axis 1 (left/right). Here, it is fixed that the elements will be reversed\n",
        "#   along axis 1.For a 2-D array, this flips the entries in each row in the left/right direction. Columns are preserved but appear in a different\n",
        "#   order than before."
      ],
      "metadata": {
        "id": "wSuFGpZ6joMK"
      },
      "execution_count": null,
      "outputs": []
    },
    {
      "cell_type": "code",
      "source": [
        "import numpy as np\n",
        "\n",
        "arr= np.array([[9, 8, 3], [6, 2, 1]])\n",
        "result = np.flipud(arr)\n",
        "result"
      ],
      "metadata": {
        "colab": {
          "base_uri": "https://localhost:8080/"
        },
        "id": "AScjDCJOlL63",
        "outputId": "d2436f60-5ad2-4e64-a9d1-60bc155176b5"
      },
      "execution_count": null,
      "outputs": [
        {
          "output_type": "execute_result",
          "data": {
            "text/plain": [
              "array([[6, 2, 1],\n",
              "       [9, 8, 3]])"
            ]
          },
          "metadata": {},
          "execution_count": 63
        }
      ]
    },
    {
      "cell_type": "code",
      "source": [
        "import numpy as np\n",
        "\n",
        "arr= np.array([[9, 8, 3], [6, 2, 1]])\n",
        "result = np.fliplr(arr)\n",
        "result"
      ],
      "metadata": {
        "colab": {
          "base_uri": "https://localhost:8080/"
        },
        "id": "eL3TaLO8lTm0",
        "outputId": "9ac520b7-16f2-46c4-bc40-ab8845a2e5f5"
      },
      "execution_count": null,
      "outputs": [
        {
          "output_type": "execute_result",
          "data": {
            "text/plain": [
              "array([[3, 8, 9],\n",
              "       [1, 2, 6]])"
            ]
          },
          "metadata": {},
          "execution_count": 65
        }
      ]
    },
    {
      "cell_type": "code",
      "source": [
        "# 9. Discuss the functionality of the array_split() method in NumPy. How does it handle uneven splits?\n",
        "# Ans:\n",
        "# numpy.split() is a function that divides an array into equal parts along a specified axis. The code imports NumPy creates an array of numbers (0-5),\n",
        "#  and then splits it in half (horizontally) using np.split(). The output shows the original array and the two resulting sub-arrays,\n",
        "#   each containing 3 elements.\n",
        "# If the array cannot be evenly divided, the behavior depends on the axis and the method used for splitting. For example, the numpy.array_split()\n",
        "#  function allows uneven splits and handles any remaining elements. While numpy.split() divides the array into equal-sized sub-arrays,\n",
        "#  numpy.array_split() can handle uneven splits."
      ],
      "metadata": {
        "id": "hj3MLH7SlnhL"
      },
      "execution_count": null,
      "outputs": []
    },
    {
      "cell_type": "code",
      "source": [
        "# 10. Explain the concepts of vectorization and broadcasting in NumPy. How do they contribute to efficient array operations?\n",
        "# Ans:\n",
        "# Broadcasting: Broadcasting provides a means of vectorizing array operations so that looping occurs in C instead of Python. It does this\n",
        "#            without making needless copies of data and usually leads to efficient algorithm implementations.\n",
        "# Vectorization : a programming style where operations on a single piece of data, typically in a loop, are replaced by operations on entire\n",
        "#                 arrays. Vectorisation can improve the performance of a code and can make the code more concise and easier to maintain."
      ],
      "metadata": {
        "id": "7IhkrdEQoopw"
      },
      "execution_count": null,
      "outputs": []
    }
  ]
}