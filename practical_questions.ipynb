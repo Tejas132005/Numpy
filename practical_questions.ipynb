{
  "nbformat": 4,
  "nbformat_minor": 0,
  "metadata": {
    "colab": {
      "provenance": [],
      "authorship_tag": "ABX9TyOTB/RAQtXrpyEbZXjYerkI",
      "include_colab_link": true
    },
    "kernelspec": {
      "name": "python3",
      "display_name": "Python 3"
    },
    "language_info": {
      "name": "python"
    }
  },
  "cells": [
    {
      "cell_type": "markdown",
      "metadata": {
        "id": "view-in-github",
        "colab_type": "text"
      },
      "source": [
        "<a href=\"https://colab.research.google.com/github/Tejas132005/Numpy/blob/main/practical_questions.ipynb\" target=\"_parent\"><img src=\"https://colab.research.google.com/assets/colab-badge.svg\" alt=\"Open In Colab\"/></a>"
      ]
    },
    {
      "cell_type": "code",
      "execution_count": null,
      "metadata": {
        "colab": {
          "base_uri": "https://localhost:8080/"
        },
        "id": "sDzmeCes1qlB",
        "outputId": "7450c12a-4318-4a3f-9c6d-edad96725b01"
      },
      "outputs": [
        {
          "output_type": "execute_result",
          "data": {
            "text/plain": [
              "array([[52,  7, 77],\n",
              "       [42, 13, 21],\n",
              "       [70, 57, 68]])"
            ]
          },
          "metadata": {},
          "execution_count": 2
        }
      ],
      "source": [
        "# 1. Create a 3x3 NumPy array with random integers between 1 and 100. Then, interchange its rows and columns.\n",
        "# Ans:\n",
        "import numpy as np\n",
        "a = np.random.randint(1,100,(3,3))\n",
        "a"
      ]
    },
    {
      "cell_type": "code",
      "source": [
        "a.T # interchange rows and column of a"
      ],
      "metadata": {
        "colab": {
          "base_uri": "https://localhost:8080/"
        },
        "id": "sO_mTVPF2CLS",
        "outputId": "f83d9e3a-8a9a-49b9-9dda-46166c50113a"
      },
      "execution_count": null,
      "outputs": [
        {
          "output_type": "execute_result",
          "data": {
            "text/plain": [
              "array([[52, 42, 70],\n",
              "       [ 7, 13, 57],\n",
              "       [77, 21, 68]])"
            ]
          },
          "metadata": {},
          "execution_count": 6
        }
      ]
    },
    {
      "cell_type": "code",
      "source": [
        "# 2. Generate a 1D NumPy array with 10 elements. Reshape it into a 2x5 array, then into a 5x2 array.\n",
        "# Ans:\n",
        "import numpy as np\n",
        "a = np.arange(1,11)\n",
        "a.reshape(2,5)"
      ],
      "metadata": {
        "colab": {
          "base_uri": "https://localhost:8080/"
        },
        "id": "Fzw2wMEq2LXF",
        "outputId": "a36d5dbb-103b-437a-d886-0ba886de81c7"
      },
      "execution_count": null,
      "outputs": [
        {
          "output_type": "execute_result",
          "data": {
            "text/plain": [
              "array([[ 1,  2,  3,  4,  5],\n",
              "       [ 6,  7,  8,  9, 10]])"
            ]
          },
          "metadata": {},
          "execution_count": 10
        }
      ]
    },
    {
      "cell_type": "code",
      "source": [
        "# 3. Create a 4x4 NumPy array with random float values. Add a border of zeros around it, resulting in a 6x6 array.\n",
        "# Ans:\n",
        "import numpy as np\n",
        "a = np.empty((4,4))\n",
        "np.pad(a, pad_width = 1, mode = 'constant', constant_values = 0)"
      ],
      "metadata": {
        "colab": {
          "base_uri": "https://localhost:8080/"
        },
        "id": "lYUU9W4_2uoQ",
        "outputId": "a4e30f0b-756f-42ad-a4f8-5210e020b076"
      },
      "execution_count": null,
      "outputs": [
        {
          "output_type": "execute_result",
          "data": {
            "text/plain": [
              "array([[0.00000000e+000, 0.00000000e+000, 0.00000000e+000,\n",
              "        0.00000000e+000, 0.00000000e+000, 0.00000000e+000],\n",
              "       [0.00000000e+000, 4.69528071e-310, 0.00000000e+000,\n",
              "        2.41907520e-312, 2.37663529e-312, 0.00000000e+000],\n",
              "       [0.00000000e+000, 2.22809558e-312, 2.46151512e-312,\n",
              "        6.79038654e-313, 2.35541533e-312, 0.00000000e+000],\n",
              "       [0.00000000e+000, 2.46151512e-312, 6.79038654e-313,\n",
              "        2.35541533e-312, 6.79038654e-313, 0.00000000e+000],\n",
              "       [0.00000000e+000, 2.14321575e-312, 2.22809558e-312,\n",
              "        2.14321575e-312, 9.76118064e-313, 0.00000000e+000],\n",
              "       [0.00000000e+000, 0.00000000e+000, 0.00000000e+000,\n",
              "        0.00000000e+000, 0.00000000e+000, 0.00000000e+000]])"
            ]
          },
          "metadata": {},
          "execution_count": 14
        }
      ]
    },
    {
      "cell_type": "code",
      "source": [
        "# 4. Using NumPy, create an array of integers from 10 to 60 with a step of 5.\n",
        "# Ans:\n",
        "np.arange(10,60,5)"
      ],
      "metadata": {
        "colab": {
          "base_uri": "https://localhost:8080/"
        },
        "id": "I8pKVEOe3XZj",
        "outputId": "ff87562c-aa9b-4d14-f23c-01326040c400"
      },
      "execution_count": null,
      "outputs": [
        {
          "output_type": "execute_result",
          "data": {
            "text/plain": [
              "array([10, 15, 20, 25, 30, 35, 40, 45, 50, 55])"
            ]
          },
          "metadata": {},
          "execution_count": 15
        }
      ]
    },
    {
      "cell_type": "code",
      "source": [
        "# 5. Create a NumPy array of strings ['python', 'numpy', 'pandas']. Apply different case transformations (uppercase, lowercase, title case, etc.)\n",
        "#     to each element.\n",
        "# Ans:\n",
        "import numpy as np\n",
        "l = ['python', 'numpy', 'pandas']\n",
        "a = np.array(l)\n",
        "np.char.upper(l)"
      ],
      "metadata": {
        "colab": {
          "base_uri": "https://localhost:8080/"
        },
        "id": "MSU9cOcg4A1j",
        "outputId": "fe47cbc3-0127-4509-9a88-2d4897998825"
      },
      "execution_count": null,
      "outputs": [
        {
          "output_type": "execute_result",
          "data": {
            "text/plain": [
              "array(['PYTHON', 'NUMPY', 'PANDAS'], dtype='<U6')"
            ]
          },
          "metadata": {},
          "execution_count": 16
        }
      ]
    },
    {
      "cell_type": "code",
      "source": [
        "np.char.lower(l)"
      ],
      "metadata": {
        "colab": {
          "base_uri": "https://localhost:8080/"
        },
        "id": "KImB6xFQ4shU",
        "outputId": "d7414d47-f905-4448-b5b9-6e4c1141f1fc"
      },
      "execution_count": null,
      "outputs": [
        {
          "output_type": "execute_result",
          "data": {
            "text/plain": [
              "array(['python', 'numpy', 'pandas'], dtype='<U6')"
            ]
          },
          "metadata": {},
          "execution_count": 17
        }
      ]
    },
    {
      "cell_type": "code",
      "source": [
        "np.char.capitalize(a)"
      ],
      "metadata": {
        "colab": {
          "base_uri": "https://localhost:8080/"
        },
        "id": "ioU-JHy64vsS",
        "outputId": "daa9fc88-8c97-4559-861b-65d0f825433e"
      },
      "execution_count": null,
      "outputs": [
        {
          "output_type": "execute_result",
          "data": {
            "text/plain": [
              "array(['Python', 'Numpy', 'Pandas'], dtype='<U6')"
            ]
          },
          "metadata": {},
          "execution_count": 18
        }
      ]
    },
    {
      "cell_type": "code",
      "source": [
        "# 6. Generate a NumPy array of words. Insert a space between each character of every word in the array.\n",
        "# Ans:\n",
        "import numpy as np\n",
        "l = ['Hello', 'invigilator','I', 'like','You']\n",
        "a1 = np.array(l)\n",
        "np.char.join(\" \",a)"
      ],
      "metadata": {
        "colab": {
          "base_uri": "https://localhost:8080/"
        },
        "id": "iK3yMTFM48Lw",
        "outputId": "b4a54751-db40-4b53-bc05-ffcee829a772"
      },
      "execution_count": null,
      "outputs": [
        {
          "output_type": "execute_result",
          "data": {
            "text/plain": [
              "array(['p y t h o n', 'n u m p y', 'p a n d a s'], dtype='<U11')"
            ]
          },
          "metadata": {},
          "execution_count": 21
        }
      ]
    },
    {
      "cell_type": "code",
      "source": [
        "# 7. Create two 2D NumPy arrays and perform element-wise addition, subtraction, multiplication, and division.\n",
        "# Ans:\n",
        "arr1 = np.random.randint(1,10, (3,3))\n",
        "arr2 = np.random.randint(2,12, (3,3))\n",
        "arr1,arr2"
      ],
      "metadata": {
        "colab": {
          "base_uri": "https://localhost:8080/"
        },
        "id": "5wUKPE4-61LI",
        "outputId": "5630ae34-29e9-4c4c-ab82-ea3a8506b02b"
      },
      "execution_count": null,
      "outputs": [
        {
          "output_type": "execute_result",
          "data": {
            "text/plain": [
              "(array([[6, 3, 9],\n",
              "        [3, 1, 5],\n",
              "        [6, 6, 9]]),\n",
              " array([[9, 4, 6],\n",
              "        [3, 8, 5],\n",
              "        [6, 3, 7]]))"
            ]
          },
          "metadata": {},
          "execution_count": 22
        }
      ]
    },
    {
      "cell_type": "code",
      "source": [
        "arr1+arr2"
      ],
      "metadata": {
        "colab": {
          "base_uri": "https://localhost:8080/"
        },
        "id": "HH4479cN7uP2",
        "outputId": "09f7140b-ee79-4f6f-9791-be4ecdbd0312"
      },
      "execution_count": null,
      "outputs": [
        {
          "output_type": "execute_result",
          "data": {
            "text/plain": [
              "array([[15,  7, 15],\n",
              "       [ 6,  9, 10],\n",
              "       [12,  9, 16]])"
            ]
          },
          "metadata": {},
          "execution_count": 23
        }
      ]
    },
    {
      "cell_type": "code",
      "source": [
        "arr1-arr2"
      ],
      "metadata": {
        "colab": {
          "base_uri": "https://localhost:8080/"
        },
        "id": "VNQuEkaE7wTL",
        "outputId": "15a96e74-43cd-43d4-d9a2-947796d55855"
      },
      "execution_count": null,
      "outputs": [
        {
          "output_type": "execute_result",
          "data": {
            "text/plain": [
              "array([[-3, -1,  3],\n",
              "       [ 0, -7,  0],\n",
              "       [ 0,  3,  2]])"
            ]
          },
          "metadata": {},
          "execution_count": 24
        }
      ]
    },
    {
      "cell_type": "code",
      "source": [
        "arr1*arr2"
      ],
      "metadata": {
        "colab": {
          "base_uri": "https://localhost:8080/"
        },
        "id": "dcZ7-gqK7x2b",
        "outputId": "da7bb581-5c79-4b9b-9244-8ac54f953103"
      },
      "execution_count": null,
      "outputs": [
        {
          "output_type": "execute_result",
          "data": {
            "text/plain": [
              "array([[54, 12, 54],\n",
              "       [ 9,  8, 25],\n",
              "       [36, 18, 63]])"
            ]
          },
          "metadata": {},
          "execution_count": 25
        }
      ]
    },
    {
      "cell_type": "code",
      "source": [
        "arr1/arr2"
      ],
      "metadata": {
        "colab": {
          "base_uri": "https://localhost:8080/"
        },
        "id": "Es6m2nvz7zib",
        "outputId": "8b919654-43a9-456d-aaea-fd7d9a54dd95"
      },
      "execution_count": null,
      "outputs": [
        {
          "output_type": "execute_result",
          "data": {
            "text/plain": [
              "array([[0.66666667, 0.75      , 1.5       ],\n",
              "       [1.        , 0.125     , 1.        ],\n",
              "       [1.        , 2.        , 1.28571429]])"
            ]
          },
          "metadata": {},
          "execution_count": 26
        }
      ]
    },
    {
      "cell_type": "code",
      "source": [
        "# 8. Use NumPy to create a 5x5 identity matrix, then extract its diagonal elements.\n",
        "# Ans:\n",
        "import numpy as np\n",
        "a2 = np.identity(5, dtype =int)\n",
        "np.diag(a2)"
      ],
      "metadata": {
        "colab": {
          "base_uri": "https://localhost:8080/"
        },
        "id": "jM0Bd0rb71hL",
        "outputId": "59d70d28-9a95-49ed-e99c-6761a531d87d"
      },
      "execution_count": null,
      "outputs": [
        {
          "output_type": "execute_result",
          "data": {
            "text/plain": [
              "array([1, 1, 1, 1, 1])"
            ]
          },
          "metadata": {},
          "execution_count": 33
        }
      ]
    },
    {
      "cell_type": "code",
      "source": [
        "# 9. Generate a NumPy array of 100 random integers between 0 and 1000. Find and display all prime numbers in this array.\n",
        "# Ans:\n",
        "import numpy as np\n",
        "import math\n",
        "a = np.random.randint(1,1000,(1,100))\n",
        "a"
      ],
      "metadata": {
        "colab": {
          "base_uri": "https://localhost:8080/"
        },
        "id": "JTVCUIax8bKt",
        "outputId": "5e14aec0-8d80-41f1-b058-46c1c73f50ea"
      },
      "execution_count": null,
      "outputs": [
        {
          "output_type": "execute_result",
          "data": {
            "text/plain": [
              "array([[517, 160, 193, 590, 303,  13, 898, 882, 837, 814, 319, 622, 631,\n",
              "        109,  13, 604, 768, 607, 610, 960, 325, 904, 897, 353, 868, 368,\n",
              "        989, 132, 343, 573,  89,  99, 228, 557,   8, 828, 331, 646, 399,\n",
              "        720, 690, 465, 130, 326,  90, 388, 558,  91, 328, 336, 231, 432,\n",
              "        315, 991, 833, 647, 967,  97, 429,  77, 866, 244, 434, 185, 963,\n",
              "        597, 904, 790, 557, 447, 317, 347, 531, 456, 604,  80, 927,  52,\n",
              "        299, 597, 894, 945, 565, 417, 757, 170, 151, 144, 349,  50, 999,\n",
              "        379, 338, 462, 517, 202, 467, 111,  87,  26]])"
            ]
          },
          "metadata": {},
          "execution_count": 46
        }
      ]
    },
    {
      "cell_type": "code",
      "source": [
        "def is_prime(n):\n",
        "    if n % 2 == 0 and n > 2:\n",
        "        return False\n",
        "    return all(n % i for i in range(3, int(math.sqrt(n)) + 1, 2))\n",
        "f = np.vectorize(is_prime)\n",
        "f1 = f(a)\n",
        "primes = np.extract(f1, a)\n",
        "primes"
      ],
      "metadata": {
        "colab": {
          "base_uri": "https://localhost:8080/"
        },
        "id": "lpOfuLRq9PbQ",
        "outputId": "772b3a8d-4416-4bc5-b0c1-77c11b4589c6"
      },
      "execution_count": null,
      "outputs": [
        {
          "output_type": "execute_result",
          "data": {
            "text/plain": [
              "array([193,  13, 631, 109,  13, 607, 353,  89, 557, 331, 991, 647, 967,\n",
              "        97, 557, 317, 347, 757, 151, 349, 379, 467])"
            ]
          },
          "metadata": {},
          "execution_count": 47
        }
      ]
    },
    {
      "cell_type": "code",
      "source": [
        "# 10. Create a NumPy array representing daily temperatures for a month. Calculate and display the weekly averages.\n",
        "# Ans:\n",
        "a = np.random.randint(22,28,(1,30))\n",
        "a"
      ],
      "metadata": {
        "colab": {
          "base_uri": "https://localhost:8080/"
        },
        "id": "M5x9zXZ-_khH",
        "outputId": "4bdcee4d-ceec-4658-f0fa-1fea6276f8c4"
      },
      "execution_count": null,
      "outputs": [
        {
          "output_type": "execute_result",
          "data": {
            "text/plain": [
              "array([[25, 25, 24, 22, 27, 25, 23, 23, 24, 23, 24, 25, 25, 23, 25, 26,\n",
              "        26, 24, 24, 26, 27, 24, 25, 27, 25, 25, 24, 25, 24, 24]])"
            ]
          },
          "metadata": {},
          "execution_count": 56
        }
      ]
    },
    {
      "cell_type": "code",
      "source": [
        "a1 = a.reshape(5,6)"
      ],
      "metadata": {
        "colab": {
          "base_uri": "https://localhost:8080/"
        },
        "id": "RH191mn2GZom",
        "outputId": "89efcf31-02ee-441b-b01a-fe4692ca5c2c"
      },
      "execution_count": null,
      "outputs": [
        {
          "output_type": "execute_result",
          "data": {
            "text/plain": [
              "array([[25, 25, 24, 22, 27, 25],\n",
              "       [23, 23, 24, 23, 24, 25],\n",
              "       [25, 23, 25, 26, 26, 24],\n",
              "       [24, 26, 27, 24, 25, 27],\n",
              "       [25, 25, 24, 25, 24, 24]])"
            ]
          },
          "metadata": {},
          "execution_count": 61
        }
      ]
    },
    {
      "cell_type": "code",
      "source": [
        "# week1\n",
        "l1 = [25,25,24,22,27,25]\n",
        "sum(l1)/len(l1)"
      ],
      "metadata": {
        "colab": {
          "base_uri": "https://localhost:8080/"
        },
        "id": "f0SFdt_tGE_T",
        "outputId": "5956e40c-a0e0-469b-ca22-c79b86c411d0"
      },
      "execution_count": null,
      "outputs": [
        {
          "output_type": "execute_result",
          "data": {
            "text/plain": [
              "24.666666666666668"
            ]
          },
          "metadata": {},
          "execution_count": 68
        }
      ]
    },
    {
      "cell_type": "code",
      "source": [
        "# week2\n",
        "l2 = [23, 23, 24, 23, 24, 25]\n",
        "sum(l2)/len(l2)"
      ],
      "metadata": {
        "colab": {
          "base_uri": "https://localhost:8080/"
        },
        "id": "2UFcnHepIbYu",
        "outputId": "40b51ced-b85a-4b01-ce2d-9ab2d0bb1c88"
      },
      "execution_count": null,
      "outputs": [
        {
          "output_type": "execute_result",
          "data": {
            "text/plain": [
              "23.666666666666668"
            ]
          },
          "metadata": {},
          "execution_count": 69
        }
      ]
    },
    {
      "cell_type": "code",
      "source": [
        "# week3\n",
        "l3 = [25, 23, 25, 26, 26, 24]\n",
        "sum(l3)/len(l3)"
      ],
      "metadata": {
        "colab": {
          "base_uri": "https://localhost:8080/"
        },
        "id": "SaNlTx1nJMdT",
        "outputId": "75e9ee7f-3d98-4402-d834-7a9aae6453de"
      },
      "execution_count": null,
      "outputs": [
        {
          "output_type": "execute_result",
          "data": {
            "text/plain": [
              "24.833333333333332"
            ]
          },
          "metadata": {},
          "execution_count": 70
        }
      ]
    },
    {
      "cell_type": "code",
      "source": [
        "# week4\n",
        "l4 = [24, 26, 27, 24, 25, 27]\n",
        "sum(l4)/len(l4)"
      ],
      "metadata": {
        "colab": {
          "base_uri": "https://localhost:8080/"
        },
        "id": "bFOFgmpNJSny",
        "outputId": "fe0135a6-c126-49da-decd-e714454ae753"
      },
      "execution_count": null,
      "outputs": [
        {
          "output_type": "execute_result",
          "data": {
            "text/plain": [
              "25.5"
            ]
          },
          "metadata": {},
          "execution_count": 71
        }
      ]
    },
    {
      "cell_type": "code",
      "source": [
        "# week5\n",
        "l5 = [25, 25, 24, 25, 24, 24]\n",
        "sum(l5)/len(l5)"
      ],
      "metadata": {
        "colab": {
          "base_uri": "https://localhost:8080/"
        },
        "id": "pcTPWWhwJcTa",
        "outputId": "3df0e71e-553d-4bca-e518-4bb7d4f08526"
      },
      "execution_count": null,
      "outputs": [
        {
          "output_type": "execute_result",
          "data": {
            "text/plain": [
              "24.5"
            ]
          },
          "metadata": {},
          "execution_count": 72
        }
      ]
    }
  ]
}